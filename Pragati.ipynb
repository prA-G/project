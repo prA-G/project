{
  "nbformat": 4,
  "nbformat_minor": 0,
  "metadata": {
    "colab": {
      "provenance": [],
      "toc_visible": true
    },
    "kernelspec": {
      "name": "python3",
      "display_name": "Python 3"
    },
    "language_info": {
      "name": "python"
    }
  },
  "cells": [
    {
      "cell_type": "markdown",
      "source": [
        "#Python Basic Questions"
      ],
      "metadata": {
        "id": "l7leWvo90p7r"
      }
    },
    {
      "cell_type": "markdown",
      "source": [
        "##1. What is python and why is it popular?\n",
        "### Python\n",
        "Python is a high-level programming language which is created by \" Guido van Rossum\" in 1991.\n",
        "### Reason for its popularities\n",
        "1. It is widely used in industry on worldwide level.\n",
        "2. It has a lot of libraries.\n",
        "3. It is Simple & Dynamically types which means no need to declare variable type like in C++.\n",
        "4. Supports multiple programming paradigms ( Procedure Oriented + Object Oriented) << Combine data and functionality.\n",
        "5. Compiler as well as interpretor << Compilation part is hidden from programmer.\n",
        "6. It has large active community who consistently contributes in Python.\n"
      ],
      "metadata": {
        "id": "_FbrwTtQ0pgj"
      }
    },
    {
      "cell_type": "markdown",
      "source": [
        "##2. What is an interpreter in python?\n",
        "### Interpretor\n",
        "An interpretor in Python is an engine which read your python codes line-by-line , translates it to machine language and execute immediatley."
      ],
      "metadata": {
        "id": "k9aNlbjT0o0l"
      }
    },
    {
      "cell_type": "markdown",
      "source": [
        "##3. What are predifined keywords in Python?\n",
        "### Keywords\n",
        "These are reserved words that hold a special meaning and specific purpose in python programming language.\n",
        "Keywords can never be changed as it is always fixed because Python uses it for its own logic and structure.\n"
      ],
      "metadata": {
        "id": "iIGTb6Lj0oQe"
      }
    },
    {
      "cell_type": "markdown",
      "source": [
        "##4. Can keywords be used as variable names?\n",
        "No, a keywords can never be used as variable names as every keywords has pre-defined jobs."
      ],
      "metadata": {
        "id": "iO0QYZld2R0Q"
      }
    },
    {
      "cell_type": "markdown",
      "source": [
        "##5. What is mutability in Python?\n",
        "Mutability in Python is defined as the data or object can be changed or edited even after it's created.\n",
        " Examples of mutable objects in python are Lists, Sets, etc."
      ],
      "metadata": {
        "id": "ESQpyK0p2a_e"
      }
    },
    {
      "cell_type": "markdown",
      "source": [
        "##6. Why are lists mutable, but tuples are immutable?\n",
        "In Python Lists are mutable whereas tuples are immutable because we can change or edit the part of lists whenever we want after its creation but we cannot change or edit parts of tuples if once it is created."
      ],
      "metadata": {
        "id": "yYY3zQ752h-y"
      }
    },
    {
      "cell_type": "markdown",
      "source": [
        "##7. What is difference between \"==\" and \"is\" operators in Python?\n",
        "In Python \"==\" is used for comparison and \"is\" is used for checking identity as \"==\" checks value equality but \"is\" checks identity equality."
      ],
      "metadata": {
        "id": "JIHOrqyp2rPl"
      }
    },
    {
      "cell_type": "markdown",
      "source": [
        "##8. What are logical operators in Python?\n",
        "1. Logical Operators in Python are used to  evaluate expressions and control the flow in programming.\n",
        "2. It returns Boolean values.\n",
        "###Types of Logical operators:\n",
        "  AND operator : Return True only if both condition is True2.  OR operator : Return True if any one of condition is True.\n",
        " NOT operator : Reverse the condition."
      ],
      "metadata": {
        "id": "oDFiWg173Q3_"
      }
    },
    {
      "cell_type": "markdown",
      "source": [
        "##9. What is typecasting in Python?\n",
        "The process of changing the data types of Value/ objects in Python is called typecasting. It is needed because sometime while executing or computations usings operators there can be mismatch between the data types."
      ],
      "metadata": {
        "id": "7vFFV6W62MKU"
      }
    },
    {
      "cell_type": "markdown",
      "source": [
        "##10. What is difference between implicit and explicit typecasting?\n",
        "There are two types of typecasting:\n",
        "1. Implicit Typecasting : It done Automatically. As if two data types are used in an expression, it automatically switch one type to avoid data loss.\n",
        "2. Explicit Typecasting : It done Manually. In this we have to tell or define what type of data we want. We convert the data type using functions like int(), float(), str(), etc."
      ],
      "metadata": {
        "id": "5uDl7Mjj2f-3"
      }
    },
    {
      "cell_type": "markdown",
      "source": [
        "##11. What is the purpose of conditional statements in Python?\n",
        "The purpose of Conditional statements in Python are\n",
        "1. To allow the program to take decisions based on conditions given.\n",
        "2. Makes the program more flexible and capable through control-flow.\n",
        "3. Avoids running the same code every time.\n",
        "4. Allow a program to choose different path of execution based on whether a condition is True or False."
      ],
      "metadata": {
        "id": "HaRwL2Jt3QaV"
      }
    },
    {
      "cell_type": "markdown",
      "source": [
        "##12. How does the elif statement works?\n",
        "elif=else-if\n",
        "1. We use elif condition when we have multiple conditions to check.\n",
        "2. It checks the if-condition first\n",
        "3. If it's false, it checks elif condition.\n",
        "4. If an elif is True, that block will run.\n",
        "5. If none are True, else block will run.\n",
        "Python executes the blocks which satisfy the condition and then exits the blocks."
      ],
      "metadata": {
        "id": "rWRTUDC_342f"
      }
    },
    {
      "cell_type": "markdown",
      "source": [
        "##13. What is differences between for and while loop?\n",
        "The differences between for loop and while loop are given below:\n",
        "1. Usage : For loop is used when we know how many time the code is going to run but While loop is used when we don't know how many time exactly the code run.\n",
        "2. Structure : For loops Iterate over a sequence whereas While loop runs as long as the condition is True.\n",
        "3. Risk : In for loop we have less risk of infinite loops whereas in While loop if condition never become false the code never stops."
      ],
      "metadata": {
        "id": "gXlC4Fe839y0"
      }
    },
    {
      "cell_type": "markdown",
      "source": [
        "##14. Describe a scenerio where a while loop is more suitable than for loop.\n",
        "A while loop is more suitable in situations where the number of iterations is not known in advance and loop should continue based on a condition.\n",
        "Lets assume a scenario in which the PWSkill login page keep asking the students for the correct password until they entered it correctly. Since we don't know how many attempts the students will take, in this scenario, While loop is proven best."
      ],
      "metadata": {
        "id": "Sa3GxAHY4FNB"
      }
    },
    {
      "cell_type": "markdown",
      "source": [
        "#Practical Questions"
      ],
      "metadata": {
        "id": "pQ4XdEOk4RTb"
      }
    },
    {
      "cell_type": "markdown",
      "source": [
        "##1. Write a Python program to print \"Hello, World!\""
      ],
      "metadata": {
        "id": "cnp7DxH94cts"
      }
    },
    {
      "cell_type": "code",
      "source": [
        "print(\"Hello, World!\")"
      ],
      "metadata": {
        "id": "f3xKww6O2UeZ",
        "colab": {
          "base_uri": "https://localhost:8080/"
        },
        "outputId": "aa2c9881-469a-42d0-bbb6-a772aeef6f71"
      },
      "execution_count": null,
      "outputs": [
        {
          "output_type": "stream",
          "name": "stdout",
          "text": [
            "Hello, World!\n"
          ]
        }
      ]
    },
    {
      "cell_type": "markdown",
      "source": [
        "##2. Write a Python program to display your name and age."
      ],
      "metadata": {
        "id": "78KnkZWx4p4c"
      }
    },
    {
      "cell_type": "code",
      "source": [
        "name=\"Pragati Dwivedi\"\n",
        "age=\"24\"\n",
        "print(\"My name is \",(name),\". I am \",(age),\"years old\")"
      ],
      "metadata": {
        "id": "Zctb5wH44xbS",
        "colab": {
          "base_uri": "https://localhost:8080/"
        },
        "outputId": "e08ee039-5ae8-45b6-e768-9b8d07aabc82"
      },
      "execution_count": null,
      "outputs": [
        {
          "output_type": "stream",
          "name": "stdout",
          "text": [
            "My name is  Pragati Dwivedi . I am  24 years old\n"
          ]
        }
      ]
    },
    {
      "cell_type": "markdown",
      "source": [
        "##3. Write a code to print all the pre-defined keywords in Python using Keyword library."
      ],
      "metadata": {
        "id": "Dx9VlH-w4yNG"
      }
    },
    {
      "cell_type": "code",
      "source": [
        "import keyword\n",
        "print(keyword.kwlist)"
      ],
      "metadata": {
        "id": "WiWoGHG65C0E",
        "colab": {
          "base_uri": "https://localhost:8080/"
        },
        "outputId": "88ce5a4c-a5f3-4b62-8d1d-261080d518ee"
      },
      "execution_count": null,
      "outputs": [
        {
          "output_type": "stream",
          "name": "stdout",
          "text": [
            "['False', 'None', 'True', 'and', 'as', 'assert', 'async', 'await', 'break', 'class', 'continue', 'def', 'del', 'elif', 'else', 'except', 'finally', 'for', 'from', 'global', 'if', 'import', 'in', 'is', 'lambda', 'nonlocal', 'not', 'or', 'pass', 'raise', 'return', 'try', 'while', 'with', 'yield']\n"
          ]
        }
      ]
    },
    {
      "cell_type": "markdown",
      "source": [
        "##4. Write a code to check if a given word is Python keywords."
      ],
      "metadata": {
        "id": "6JNvzSEh5D6z"
      }
    },
    {
      "cell_type": "code",
      "source": [
        "import keyword\n",
        "word=input(\"Enter the keyword \")\n",
        "if keyword.iskeyword(word):\n",
        "  print(f\"{word} is a Python Keyword\")\n",
        "else:\n",
        "  print(f\"{word} is not Python Keyword\")"
      ],
      "metadata": {
        "id": "Qr0Qf-Ho5MbR",
        "colab": {
          "base_uri": "https://localhost:8080/"
        },
        "outputId": "5732ee01-49fc-4d7a-88b8-49496fc3e48e"
      },
      "execution_count": null,
      "outputs": [
        {
          "output_type": "stream",
          "name": "stdout",
          "text": [
            "Enter the keyword import\n",
            "import is a Python Keyword\n"
          ]
        }
      ]
    },
    {
      "cell_type": "markdown",
      "source": [
        "##5. Create a list and tuple in Python, and demonstrate how attempting to change an elements work differently for each."
      ],
      "metadata": {
        "id": "qFveJD9u5Nek"
      }
    },
    {
      "cell_type": "code",
      "source": [
        "# Creating List\n",
        "my_list=[10,5.5,True,\"pwskills\"]\n",
        "\n",
        "# Creating Tuple\n",
        "my_tuple=(10,5.5,True,\"pwskills\")"
      ],
      "metadata": {
        "id": "k45N9RIt5djo"
      },
      "execution_count": null,
      "outputs": []
    },
    {
      "cell_type": "code",
      "source": [
        "#Changing an element in List (mutable)\n",
        "my_list[1]=6.5\n",
        "print(\"New List : \", my_list)"
      ],
      "metadata": {
        "colab": {
          "base_uri": "https://localhost:8080/"
        },
        "id": "XJVX7QBIpY4f",
        "outputId": "b6476eec-5b04-4d6d-e75b-e98be4306a81"
      },
      "execution_count": null,
      "outputs": [
        {
          "output_type": "stream",
          "name": "stdout",
          "text": [
            "New List :  [10, 6.5, True, 'pwskills']\n"
          ]
        }
      ]
    },
    {
      "cell_type": "code",
      "source": [
        "# Changing an element in Tuple (Immutable)\n",
        "my_tuple[1]=7.5\n",
        "print(\"New Tuple : \", my_tuple) # Error will occured as Tuple is immutable and cannot be change if once created\n",
        " #Use list when data modification is needed and use Tuple to lock and protect data."
      ],
      "metadata": {
        "id": "9ERpFXl5p4Wv",
        "colab": {
          "base_uri": "https://localhost:8080/",
          "height": 193
        },
        "outputId": "986ed792-65ef-4a85-f066-cf196cd2f1f3"
      },
      "execution_count": null,
      "outputs": [
        {
          "output_type": "error",
          "ename": "NameError",
          "evalue": "name 'my_tuple' is not defined",
          "traceback": [
            "\u001b[0;31m---------------------------------------------------------------------------\u001b[0m",
            "\u001b[0;31mNameError\u001b[0m                                 Traceback (most recent call last)",
            "\u001b[0;32m/tmp/ipython-input-2-3940681590.py\u001b[0m in \u001b[0;36m<cell line: 0>\u001b[0;34m()\u001b[0m\n\u001b[1;32m      1\u001b[0m \u001b[0;31m# Changing an element in Tuple (Immutable)\u001b[0m\u001b[0;34m\u001b[0m\u001b[0;34m\u001b[0m\u001b[0m\n\u001b[0;32m----> 2\u001b[0;31m \u001b[0mmy_tuple\u001b[0m\u001b[0;34m[\u001b[0m\u001b[0;36m1\u001b[0m\u001b[0;34m]\u001b[0m\u001b[0;34m=\u001b[0m\u001b[0;36m7.5\u001b[0m\u001b[0;34m\u001b[0m\u001b[0;34m\u001b[0m\u001b[0m\n\u001b[0m\u001b[1;32m      3\u001b[0m \u001b[0mprint\u001b[0m\u001b[0;34m(\u001b[0m\u001b[0;34m\"New Tuple : \"\u001b[0m\u001b[0;34m,\u001b[0m \u001b[0mmy_tuple\u001b[0m\u001b[0;34m)\u001b[0m \u001b[0;31m# Error will occured as Tuple is immutable and cannot be change if once created\u001b[0m\u001b[0;34m\u001b[0m\u001b[0;34m\u001b[0m\u001b[0m\n\u001b[1;32m      4\u001b[0m  \u001b[0;31m#Use list when data modification is needed and use Tuple to lock and protect data.\u001b[0m\u001b[0;34m\u001b[0m\u001b[0;34m\u001b[0m\u001b[0m\n",
            "\u001b[0;31mNameError\u001b[0m: name 'my_tuple' is not defined"
          ]
        }
      ]
    },
    {
      "cell_type": "markdown",
      "source": [
        "##6. Write a function to demonstrate the behaviour of mutable and immutable arguments."
      ],
      "metadata": {
        "id": "OGESWccT5eRZ"
      }
    },
    {
      "cell_type": "code",
      "source": [
        "list1=[12,23,34,45]\n",
        "print(list1)\n",
        "print(id(list1)) #address of list1\n",
        "list1[1]=203 #new element defined because list is mutable\n",
        "print(list1)\n",
        "print(id(list1)) #the behaviour of mutable objects show same address"
      ],
      "metadata": {
        "id": "e09dn1L-5pyy",
        "colab": {
          "base_uri": "https://localhost:8080/"
        },
        "outputId": "51943cf4-1144-4ff8-e4ec-bc8df0bde39f"
      },
      "execution_count": 6,
      "outputs": [
        {
          "output_type": "stream",
          "name": "stdout",
          "text": [
            "[12, 23, 34, 45]\n",
            "132820676510144\n",
            "[12, 203, 34, 45]\n",
            "132820676510144\n"
          ]
        }
      ]
    },
    {
      "cell_type": "code",
      "source": [
        "tuple1=(9,98,87)\n",
        "print(tuple1)\n",
        "print(id(tuple1))\n"
      ],
      "metadata": {
        "colab": {
          "base_uri": "https://localhost:8080/"
        },
        "id": "NPPA0xUY4yNI",
        "outputId": "73a6feb3-a13a-428b-d724-f29a237ba7d7"
      },
      "execution_count": 10,
      "outputs": [
        {
          "output_type": "stream",
          "name": "stdout",
          "text": [
            "(9, 98, 87)\n",
            "132820676725376\n"
          ]
        }
      ]
    },
    {
      "cell_type": "code",
      "source": [
        "tuple1[2]=890\n",
        "print(tuple1) #Error will occured as tuple cannot support item assignment"
      ],
      "metadata": {
        "colab": {
          "base_uri": "https://localhost:8080/",
          "height": 159
        },
        "id": "ZSuHp2xP58AW",
        "outputId": "2ecffbde-9a3c-44b1-9fe4-32a4f6e0ddd2"
      },
      "execution_count": 11,
      "outputs": [
        {
          "output_type": "error",
          "ename": "TypeError",
          "evalue": "'tuple' object does not support item assignment",
          "traceback": [
            "\u001b[0;31m---------------------------------------------------------------------------\u001b[0m",
            "\u001b[0;31mTypeError\u001b[0m                                 Traceback (most recent call last)",
            "\u001b[0;32m/tmp/ipython-input-11-3312475332.py\u001b[0m in \u001b[0;36m<cell line: 0>\u001b[0;34m()\u001b[0m\n\u001b[0;32m----> 1\u001b[0;31m \u001b[0mtuple1\u001b[0m\u001b[0;34m[\u001b[0m\u001b[0;36m2\u001b[0m\u001b[0;34m]\u001b[0m\u001b[0;34m=\u001b[0m\u001b[0;36m890\u001b[0m\u001b[0;34m\u001b[0m\u001b[0;34m\u001b[0m\u001b[0m\n\u001b[0m\u001b[1;32m      2\u001b[0m \u001b[0mprint\u001b[0m\u001b[0;34m(\u001b[0m\u001b[0mtuple1\u001b[0m\u001b[0;34m)\u001b[0m \u001b[0;31m#Error will occured as tuple cannot support item assignment\u001b[0m\u001b[0;34m\u001b[0m\u001b[0;34m\u001b[0m\u001b[0m\n",
            "\u001b[0;31mTypeError\u001b[0m: 'tuple' object does not support item assignment"
          ]
        }
      ]
    },
    {
      "cell_type": "markdown",
      "source": [
        "##7. Write a program that performs basic arithematic operations on two user-input numbers"
      ],
      "metadata": {
        "id": "o9RBEFja5tnr"
      }
    },
    {
      "cell_type": "code",
      "source": [
        "Num1=int(input(\"Enter the 1st number \"))\n",
        "Num2=int(input(\"Enter the 2nd number \"))\n",
        "add=Num1+Num2\n",
        "print(\"Addition of two number is \",add)\n",
        "sub=Num1-Num2\n",
        "print(\"Subtraction of two number is \",sub)\n",
        "mul=Num1*Num2\n",
        "print(\"Multiplication of two number is\",mul)\n",
        "div=Num1/Num2\n",
        "print(\"Divion of two number is \",div)"
      ],
      "metadata": {
        "id": "vVSSj0-4566m",
        "colab": {
          "base_uri": "https://localhost:8080/"
        },
        "outputId": "ba105290-663a-4d7d-df2e-ab86f01b00fb"
      },
      "execution_count": null,
      "outputs": [
        {
          "output_type": "stream",
          "name": "stdout",
          "text": [
            "Enter the 1st number 50\n",
            "Enter the 2nd number 10\n",
            "Addition of two number is  60\n",
            "Subtraction of two number is  40\n",
            "Multiplication of two number is 500\n",
            "Divion of two number is  5.0\n"
          ]
        }
      ]
    },
    {
      "cell_type": "markdown",
      "source": [
        "##8. Write a program to demonstrate the use of logical operators."
      ],
      "metadata": {
        "id": "RC6JmE_C57jx"
      }
    },
    {
      "cell_type": "code",
      "source": [
        "homework=input(\"Have you done your homework (Yes/No) \")\n",
        "permission=input(\"Have you got the permission (Yes/No) \")\n",
        "if homework==\"yes\" and permission==\"yes\":\n",
        "    print(\"You can go to play \")\n",
        "elif homework==\"yes\" or permission==\"no\":\n",
        "    print(\"Go and ask for permission\")\n",
        "elif homework==\"no\" or permission==\"yes\":\n",
        "    print(\"Do your homework first, then go to play \")\n",
        "elif homework==\"no\" and permission==\"no\":\n",
        "    print(\"Stay home and do your work\")\n",
        "else:\n",
        "    print(\"Answer must be given in yes or no\")"
      ],
      "metadata": {
        "id": "29G2DDKd6E3b",
        "colab": {
          "base_uri": "https://localhost:8080/"
        },
        "outputId": "29a048a2-af24-428a-e84e-3b7a9d0e0d22"
      },
      "execution_count": null,
      "outputs": [
        {
          "output_type": "stream",
          "name": "stdout",
          "text": [
            "Have you done your homework (Yes/No) yes\n",
            "Have you got the permission (Yes/No) no\n",
            "Go and ask for permission\n"
          ]
        }
      ]
    },
    {
      "cell_type": "markdown",
      "source": [
        "##9. Write a Python program to convert user input from string to integer, float and boolean types."
      ],
      "metadata": {
        "id": "WeDL4gBc6LTR"
      }
    },
    {
      "cell_type": "code",
      "source": [
        "value=input(\"Enter the value : \")\n",
        "int(value)\n",
        "print(\"String to integer : \",int(value))\n",
        "float(value)\n",
        "print(\"String to float : \",float(value))\n",
        "bool(value)\n",
        "print(\"String to Boolean : \", bool(value))"
      ],
      "metadata": {
        "id": "VvjByq3e6eIc",
        "colab": {
          "base_uri": "https://localhost:8080/"
        },
        "outputId": "ae1eda0c-7dfa-438f-9334-9a65e1d27e79"
      },
      "execution_count": null,
      "outputs": [
        {
          "output_type": "stream",
          "name": "stdout",
          "text": [
            "Enter the value : 34\n",
            "String to integer :  34\n",
            "String to float :  34.0\n",
            "String to Boolean :  True\n"
          ]
        }
      ]
    },
    {
      "cell_type": "markdown",
      "source": [
        "##10. Write a code to demonstrate typecasting with list elements."
      ],
      "metadata": {
        "id": "NtQkNjiy6fMS"
      }
    },
    {
      "cell_type": "code",
      "source": [
        "list1= [\"12\",\"23\",\"34\"]\n",
        "integers=[int(x) for x in list1]\n",
        "print(integers) #list1 is a str type and it is type casted to integers"
      ],
      "metadata": {
        "colab": {
          "base_uri": "https://localhost:8080/"
        },
        "id": "SReY7SE--n9A",
        "outputId": "05a2b6da-d751-4b63-aab9-265abd42c896"
      },
      "execution_count": 2,
      "outputs": [
        {
          "output_type": "stream",
          "name": "stdout",
          "text": [
            "[12, 23, 34]\n"
          ]
        }
      ]
    },
    {
      "cell_type": "code",
      "source": [
        "list2=[12,23,34]\n",
        "floats=[float(x) for x in list2]\n",
        "print(floats)"
      ],
      "metadata": {
        "colab": {
          "base_uri": "https://localhost:8080/"
        },
        "id": "TOD8Ka7h2Cax",
        "outputId": "fa1baf7e-d8ff-4a58-b8e3-699e57798d3c"
      },
      "execution_count": 3,
      "outputs": [
        {
          "output_type": "stream",
          "name": "stdout",
          "text": [
            "[12.0, 23.0, 34.0]\n"
          ]
        }
      ]
    },
    {
      "cell_type": "code",
      "source": [
        "list3=[12.3,23.4,34.5]\n",
        "stringg=[str(x) for x in list3]\n",
        "print(stringg)"
      ],
      "metadata": {
        "colab": {
          "base_uri": "https://localhost:8080/"
        },
        "id": "Zp2Ad9Pz2Owg",
        "outputId": "a0378423-eea1-4fba-e9e9-63599b792895"
      },
      "execution_count": 4,
      "outputs": [
        {
          "output_type": "stream",
          "name": "stdout",
          "text": [
            "['12.3', '23.4', '34.5']\n"
          ]
        }
      ]
    },
    {
      "cell_type": "markdown",
      "source": [
        "##11. Write a program that checks is a number is positive, negative, or zero."
      ],
      "metadata": {
        "id": "xV4o--aX6nlA"
      }
    },
    {
      "cell_type": "code",
      "source": [
        "value=float(input(\"Enter any number : \"))\n",
        "if value>0:\n",
        "    print(value, \" is a positive number\")\n",
        "elif value==0:\n",
        "    print(value, \" is equal to zero\")\n",
        "elif value<0:\n",
        "    print(value,\" is a negative number\")\n",
        "else:\n",
        "    print(\"Enter a valid number\")"
      ],
      "metadata": {
        "id": "-3kPoPWW6yuN",
        "colab": {
          "base_uri": "https://localhost:8080/"
        },
        "outputId": "1da4ef28-95a4-4ecf-b84d-01da2e94a602"
      },
      "execution_count": 14,
      "outputs": [
        {
          "output_type": "stream",
          "name": "stdout",
          "text": [
            "Enter any number : -34678326\n",
            "-34678326.0  is a negative number\n"
          ]
        }
      ]
    },
    {
      "cell_type": "markdown",
      "source": [
        "##12. Write a for loop to print numbers from 1 to 100."
      ],
      "metadata": {
        "id": "wtT8iOfx6ztG"
      }
    },
    {
      "cell_type": "code",
      "source": [
        "#range(a,b)= start from a and stop on (b-1)\n",
        "for m in range(1,101):\n",
        "    print(m)"
      ],
      "metadata": {
        "id": "kv55UWwe664V",
        "colab": {
          "base_uri": "https://localhost:8080/"
        },
        "outputId": "5f4f0284-e586-4dba-fd37-43626b476af8"
      },
      "execution_count": 18,
      "outputs": [
        {
          "output_type": "stream",
          "name": "stdout",
          "text": [
            "1\n",
            "2\n",
            "3\n",
            "4\n",
            "5\n",
            "6\n",
            "7\n",
            "8\n",
            "9\n",
            "10\n",
            "11\n",
            "12\n",
            "13\n",
            "14\n",
            "15\n",
            "16\n",
            "17\n",
            "18\n",
            "19\n",
            "20\n",
            "21\n",
            "22\n",
            "23\n",
            "24\n",
            "25\n",
            "26\n",
            "27\n",
            "28\n",
            "29\n",
            "30\n",
            "31\n",
            "32\n",
            "33\n",
            "34\n",
            "35\n",
            "36\n",
            "37\n",
            "38\n",
            "39\n",
            "40\n",
            "41\n",
            "42\n",
            "43\n",
            "44\n",
            "45\n",
            "46\n",
            "47\n",
            "48\n",
            "49\n",
            "50\n",
            "51\n",
            "52\n",
            "53\n",
            "54\n",
            "55\n",
            "56\n",
            "57\n",
            "58\n",
            "59\n",
            "60\n",
            "61\n",
            "62\n",
            "63\n",
            "64\n",
            "65\n",
            "66\n",
            "67\n",
            "68\n",
            "69\n",
            "70\n",
            "71\n",
            "72\n",
            "73\n",
            "74\n",
            "75\n",
            "76\n",
            "77\n",
            "78\n",
            "79\n",
            "80\n",
            "81\n",
            "82\n",
            "83\n",
            "84\n",
            "85\n",
            "86\n",
            "87\n",
            "88\n",
            "89\n",
            "90\n",
            "91\n",
            "92\n",
            "93\n",
            "94\n",
            "95\n",
            "96\n",
            "97\n",
            "98\n",
            "99\n",
            "100\n"
          ]
        }
      ]
    },
    {
      "cell_type": "code",
      "source": [
        "for m in range(1,101):\n",
        "    print(m,end=\", \") #for single line"
      ],
      "metadata": {
        "colab": {
          "base_uri": "https://localhost:8080/"
        },
        "id": "nOz2-bPJ_sp_",
        "outputId": "6d3f67f8-6e2e-4f73-91c9-8efa56156676"
      },
      "execution_count": 21,
      "outputs": [
        {
          "output_type": "stream",
          "name": "stdout",
          "text": [
            "1, 2, 3, 4, 5, 6, 7, 8, 9, 10, 11, 12, 13, 14, 15, 16, 17, 18, 19, 20, 21, 22, 23, 24, 25, 26, 27, 28, 29, 30, 31, 32, 33, 34, 35, 36, 37, 38, 39, 40, 41, 42, 43, 44, 45, 46, 47, 48, 49, 50, 51, 52, 53, 54, 55, 56, 57, 58, 59, 60, 61, 62, 63, 64, 65, 66, 67, 68, 69, 70, 71, 72, 73, 74, 75, 76, 77, 78, 79, 80, 81, 82, 83, 84, 85, 86, 87, 88, 89, 90, 91, 92, 93, 94, 95, 96, 97, 98, 99, 100, "
          ]
        }
      ]
    },
    {
      "cell_type": "markdown",
      "source": [
        "##13. Write a Python program to find the sum of all even numbers between 1 and 50."
      ],
      "metadata": {
        "id": "KOWFFHZ97DC0"
      }
    },
    {
      "cell_type": "code",
      "source": [
        "value=0\n",
        "for i in range(1,51):\n",
        "    if i%2==0: #to check if the number is even\n",
        "       value=value + i\n",
        "print(\"Sum of all even number between 1 to 50 is : \", value)"
      ],
      "metadata": {
        "id": "wzZLpSM07Mte",
        "colab": {
          "base_uri": "https://localhost:8080/"
        },
        "outputId": "08dbd94d-24ed-43aa-e7b0-eaa52037a38b"
      },
      "execution_count": 47,
      "outputs": [
        {
          "output_type": "stream",
          "name": "stdout",
          "text": [
            "Sum of all even number between 1 to 50 is :  650\n"
          ]
        }
      ]
    },
    {
      "cell_type": "markdown",
      "source": [
        "##14. Write a program to reverse a string using a while loop."
      ],
      "metadata": {
        "id": "Qi3saedc7Nn2"
      }
    },
    {
      "cell_type": "code",
      "source": [
        "stringg = \"PW_Skills\"\n",
        "reversed_str = \"\"\n",
        "index=len(stringg)-1 #String indices in python starts from 0 so we take n-1\n",
        "while index >= 0:\n",
        "    reversed_str = reversed_str + stringg[index]\n",
        "    index= index-1\n",
        "print(\"The given string is : \", stringg)\n",
        "print(\"Reverse of given string is : \", reversed_str)"
      ],
      "metadata": {
        "id": "bEup_oGd7V0z",
        "colab": {
          "base_uri": "https://localhost:8080/"
        },
        "outputId": "14cb79b4-3728-4c06-acf7-de987d3a8428"
      },
      "execution_count": 29,
      "outputs": [
        {
          "output_type": "stream",
          "name": "stdout",
          "text": [
            "The given string is :  PW_Skills\n",
            "Reverse of given string is :  sllikS_WP\n"
          ]
        }
      ]
    },
    {
      "cell_type": "code",
      "source": [
        "#User input\n",
        "stringg=input(\"Enter the word : \")\n",
        "reverse = \"\"\n",
        "index=len(stringg)-1\n",
        "while index>=0:\n",
        "    reverse = reverse + stringg[index]\n",
        "    index = index-1\n",
        "print(\"Reverse of entered word is : \", reverse)"
      ],
      "metadata": {
        "colab": {
          "base_uri": "https://localhost:8080/"
        },
        "id": "ppxBsNUaGWZk",
        "outputId": "65a639f3-3341-4459-ff93-184850317ecd"
      },
      "execution_count": 31,
      "outputs": [
        {
          "output_type": "stream",
          "name": "stdout",
          "text": [
            "Enter the word : PraGati\n",
            "Reverse of entered word is :  itaGarP\n"
          ]
        }
      ]
    },
    {
      "cell_type": "markdown",
      "source": [
        "##15. Write a Python program to calculate the factorial of a number provided by the user a while loop."
      ],
      "metadata": {
        "id": "-VDIXoD67Wd6"
      }
    },
    {
      "cell_type": "code",
      "source": [
        "value=int(input(\"Enter a number to find factorial : \"))\n",
        "factorial=1\n",
        "if value<0:\n",
        "    print(\"Factorial for negative number is not defined.\")\n",
        "elif value == 0:\n",
        "    print(\"Factorial of 0 is defined as 1.\")\n",
        "elif value>0:\n",
        "    i=1\n",
        "    while i<=value:\n",
        "        factorial=factorial*i\n",
        "        i=i+1\n",
        "    print(\"Factorial of given number is : \",factorial)\n",
        "else:\n",
        "    print(\"Please enter numbers only\")"
      ],
      "metadata": {
        "id": "QhTCHH6r7jL5",
        "colab": {
          "base_uri": "https://localhost:8080/"
        },
        "outputId": "a65011ed-1f35-41cd-f45c-ab2274683aa7"
      },
      "execution_count": 46,
      "outputs": [
        {
          "output_type": "stream",
          "name": "stdout",
          "text": [
            "Enter a number to find factorial : 10\n",
            "Factorial of given number is :  3628800\n"
          ]
        }
      ]
    }
  ]
}