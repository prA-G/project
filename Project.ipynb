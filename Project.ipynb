{
  "nbformat": 4,
  "nbformat_minor": 0,
  "metadata": {
    "colab": {
      "provenance": [],
      "toc_visible": true,
      "authorship_tag": "ABX9TyNqXtqOvtg5/h4FZ3b5KFGk",
      "include_colab_link": true
    },
    "kernelspec": {
      "name": "python3",
      "display_name": "Python 3"
    },
    "language_info": {
      "name": "python"
    }
  },
  "cells": [
    {
      "cell_type": "markdown",
      "metadata": {
        "id": "view-in-github",
        "colab_type": "text"
      },
      "source": [
        "<a href=\"https://colab.research.google.com/github/prA-G/project/blob/main/Project.ipynb\" target=\"_parent\"><img src=\"https://colab.research.google.com/assets/colab-badge.svg\" alt=\"Open In Colab\"/></a>"
      ]
    },
    {
      "cell_type": "markdown",
      "source": [
        "#Arithematic Operation"
      ],
      "metadata": {
        "id": "Qa3JeajCMXC_"
      }
    },
    {
      "cell_type": "markdown",
      "source": [
        "## Calculator"
      ],
      "metadata": {
        "id": "84TnSpf5QJXi"
      }
    },
    {
      "cell_type": "code",
      "source": [
        "Number_1=float(input(\"Enter number 1 : \"))\n",
        "Number_2=float(input(\"Enter number 2 : \"))\n",
        "print(\"Opeartions for calculation are :\")\n",
        "print(\"+ for addition\")\n",
        "print(\"- for subtraction\")\n",
        "print(\"* for multiplication\")\n",
        "print(\"/ for division\")\n",
        "Calculation=input(\"Enter your operator : \")\n",
        "if Calculation==\"+\":\n",
        "    print(\"Addition = \",Number_1+Number_2)\n",
        "elif Calculation==\"-\":\n",
        "    print(\"Subtraction = \", Number_1-Number_2)\n",
        "elif Calculation==\"*\":\n",
        "    print(\"Multiplication = \", Number_1*Number_2)\n",
        "elif Calculation==\"/\":\n",
        "    print(\"Division = \", Number_1/Number_2)\n",
        "else:\n",
        "    print(\"Invalid operator\")"
      ],
      "metadata": {
        "colab": {
          "base_uri": "https://localhost:8080/"
        },
        "id": "-nO0RVA1MapL",
        "outputId": "ebaa7521-5e37-4b74-d740-4ed079f39eab"
      },
      "execution_count": null,
      "outputs": [
        {
          "output_type": "stream",
          "name": "stdout",
          "text": [
            "Enter number 1 : 78\n",
            "Enter number 2 : 12\n",
            "Opeartions for calculation are :\n",
            "+ for addition\n",
            "- for subtraction\n",
            "* for multiplication\n",
            "/ for division\n",
            "Enter your operator : +\n",
            "Addition =  90.0\n"
          ]
        }
      ]
    },
    {
      "cell_type": "code",
      "source": [
        "Number_1=float(input(\"Enter number 1 : \"))\n",
        "Number_2=float(input(\"Enter number 2 : \"))\n",
        "print(\"Opeartions for calculation are :\")\n",
        "print(\"+ for addition\")\n",
        "print(\"- for subtraction\")\n",
        "print(\"* for multiplication\")\n",
        "print(\"/ for division\")\n",
        "Calculation=input(\"Enter your operator : \")\n",
        "if Calculation==\"+\":\n",
        "    print(\"Addition = \",Number_1+Number_2)\n",
        "elif Calculation==\"-\":\n",
        "    print(\"Subtraction = \", Number_1-Number_2)\n",
        "elif Calculation==\"*\":\n",
        "    print(\"Multiplication = \", Number_1*Number_2)\n",
        "elif Calculation==\"/\":\n",
        "    print(\"Division = \", Number_1/Number_2)\n",
        "else:\n",
        "    print(\"Invalid operator\")\n",
        "    print(\"Invalid operator\")"
      ],
      "metadata": {
        "colab": {
          "base_uri": "https://localhost:8080/"
        },
        "id": "vm_LymVvN-zS",
        "outputId": "a9a131ed-6147-425a-e2c6-63145a8260d0"
      },
      "execution_count": null,
      "outputs": [
        {
          "output_type": "stream",
          "name": "stdout",
          "text": [
            "Enter number 1 : 90\n",
            "Enter number 2 : 10\n",
            "Opeartions for calculation are :\n",
            "+ for addition\n",
            "- for subtraction\n",
            "* for multiplication\n",
            "/ for division\n",
            "Enter your operator : -\n",
            "Subtraction =  80.0\n"
          ]
        }
      ]
    },
    {
      "cell_type": "markdown",
      "source": [
        "##Area of circle"
      ],
      "metadata": {
        "id": "h5b9nfjhQNWK"
      }
    },
    {
      "cell_type": "code",
      "source": [
        "radius=float(input(\"Enter the radius : \"))\n",
        "Area=radius*radius*3.14\n",
        "print(\"Radius of circle : \",Area)"
      ],
      "metadata": {
        "colab": {
          "base_uri": "https://localhost:8080/"
        },
        "id": "5HZz8a6IPuat",
        "outputId": "6fd77578-3deb-4f81-9976-29477512d7ca"
      },
      "execution_count": null,
      "outputs": [
        {
          "output_type": "stream",
          "name": "stdout",
          "text": [
            "Enter the radius : 20\n",
            "Radius of circle :  1256.0\n"
          ]
        }
      ]
    },
    {
      "cell_type": "markdown",
      "source": [
        "##Average of three numbers"
      ],
      "metadata": {
        "id": "Jc4fokqEQ942"
      }
    },
    {
      "cell_type": "code",
      "source": [
        "Num_1=float(input(\"Enter the 1st number : \"))\n",
        "Num_2=float(input(\"Enter the 2nd number : \"))\n",
        "Num_3=float(input(\"Enter the 3rd number : \"))\n",
        "Average=(Num_1+Num_2+Num_3)/3\n",
        "print(\"Average = \",Average)"
      ],
      "metadata": {
        "colab": {
          "base_uri": "https://localhost:8080/"
        },
        "id": "BNyN1q8WQ0Av",
        "outputId": "5a3da112-015b-476c-b01a-93076bccf26b"
      },
      "execution_count": null,
      "outputs": [
        {
          "output_type": "stream",
          "name": "stdout",
          "text": [
            "Enter the 1st number : 3\n",
            "Enter the 2nd number : 6\n",
            "Enter the 3rd number : 9\n",
            "Average =  6.0\n"
          ]
        }
      ]
    },
    {
      "cell_type": "markdown",
      "source": [
        "##Percentage of Number"
      ],
      "metadata": {
        "id": "yBCQ2WFuRsal"
      }
    },
    {
      "cell_type": "code",
      "source": [
        "Number=float(input(\"Enter the number : \"))\n",
        "Percentage=(Number/100)*100\n",
        "print(\"Percentage = \",Percentage, \"%\")"
      ],
      "metadata": {
        "colab": {
          "base_uri": "https://localhost:8080/"
        },
        "id": "YfME0maiRmSS",
        "outputId": "6624c10c-57a8-455a-8e23-19e390ead432"
      },
      "execution_count": null,
      "outputs": [
        {
          "output_type": "stream",
          "name": "stdout",
          "text": [
            "Enter the number : 59\n",
            "Percentage =  59.0 %\n"
          ]
        }
      ]
    },
    {
      "cell_type": "markdown",
      "source": [
        "##Simple Interest"
      ],
      "metadata": {
        "id": "NSzgSHXkSZxE"
      }
    },
    {
      "cell_type": "code",
      "source": [
        "principle=float(input(\"Enter the principle amount : \"))\n",
        "rate=float(input(\"Enter the rate : \"))\n",
        "time=float(input(\"Enter the year : \"))\n",
        "SI=(principle*rate*time)/100\n",
        "print(\"Simple Interest = \",SI,\"Rs.\")"
      ],
      "metadata": {
        "colab": {
          "base_uri": "https://localhost:8080/"
        },
        "id": "Q5N38WHjSHoC",
        "outputId": "5591378b-de3f-420d-d958-92acdad9c873"
      },
      "execution_count": null,
      "outputs": [
        {
          "output_type": "stream",
          "name": "stdout",
          "text": [
            "Enter the principle amount : 10000\n",
            "Enter the rate : 10\n",
            "Enter the year : 2\n",
            "Simple Interest =  2000.0 Rs.\n"
          ]
        }
      ]
    },
    {
      "cell_type": "markdown",
      "source": [
        "## SI unit conversion from meter to kilometer"
      ],
      "metadata": {
        "id": "xReG10QOTEq-"
      }
    },
    {
      "cell_type": "code",
      "source": [
        "value=float(input(\"Enter the value in meter : \"))\n",
        "km=value/1000\n",
        "print(\"Value in km = \",km,\"km\")"
      ],
      "metadata": {
        "colab": {
          "base_uri": "https://localhost:8080/"
        },
        "id": "htttdgiuS-A6",
        "outputId": "fa47148f-dc94-41a8-9a72-fd56bae1f8a1"
      },
      "execution_count": null,
      "outputs": [
        {
          "output_type": "stream",
          "name": "stdout",
          "text": [
            "Enter the value in meter : 5000\n",
            "Value in km =  5.0 km\n"
          ]
        }
      ]
    },
    {
      "cell_type": "markdown",
      "source": [
        "#Some projects"
      ],
      "metadata": {
        "id": "iCIR3v-pVtZ8"
      }
    },
    {
      "cell_type": "markdown",
      "source": [
        "## Traffic light"
      ],
      "metadata": {
        "id": "n1azS0n8Vxqr"
      }
    },
    {
      "cell_type": "code",
      "source": [
        "signal=input(\"Enter signal code (Red, Yellow, Green) : \")\n",
        "if signal==\"Red\":\n",
        "    print(\"Stop driving!\")\n",
        "elif signal==\"Yellow\":\n",
        "    print(\"Be ready for your drive\")\n",
        "elif signal==\"Green\":\n",
        "    print(\"Get Set Goooooo....\")\n",
        "else:\n",
        "    print(\"Invalid signal\")"
      ],
      "metadata": {
        "colab": {
          "base_uri": "https://localhost:8080/"
        },
        "id": "g6_95JLGWjgr",
        "outputId": "e4aaa059-751f-4ae6-d97f-bb192ad46c17"
      },
      "execution_count": null,
      "outputs": [
        {
          "output_type": "stream",
          "name": "stdout",
          "text": [
            "Enter signal code (Red, Yellow, Green) : Green\n",
            "Get Set Goooooo....\n"
          ]
        }
      ]
    },
    {
      "cell_type": "markdown",
      "source": [
        "## Weather forecast"
      ],
      "metadata": {
        "id": "7m3eNHfwX2Cm"
      }
    },
    {
      "cell_type": "code",
      "source": [
        "temp=float(input(\"Enter the temperature in celcius : \"))\n",
        "if 28<temp<=32:\n",
        "    print(\"Its a noraml day\")\n",
        "elif temp>=33:\n",
        "    print(\"Its very sunny today, Stay hydrated.\")\n",
        "elif 20<temp<28:\n",
        "    print(\"Its pleasant weather, Suitable for outdoor activity.\")\n",
        "elif temp<20:\n",
        "    print(\"Its very cold today, Stay inside the blanket \")\n",
        "else:\n",
        "    print(\"Temperature not defined\")"
      ],
      "metadata": {
        "colab": {
          "base_uri": "https://localhost:8080/"
        },
        "id": "oh-3n6BcXqun",
        "outputId": "596d55b5-d9fd-4500-8bb8-5ae5ed3ca4eb"
      },
      "execution_count": null,
      "outputs": [
        {
          "output_type": "stream",
          "name": "stdout",
          "text": [
            "Enter the temperature in celcius : 39\n",
            "Its very sunny today, Stay hydrated.\n"
          ]
        }
      ]
    },
    {
      "cell_type": "code",
      "source": [
        "temp=float(input(\"Enter the temperature in celcius : \"))\n",
        "if 28<temp<=32:\n",
        "    print(\"Its a noraml day\")\n",
        "elif temp>=33:\n",
        "    print(\"Its very sunny today, Stay hydrated.\")\n",
        "elif 20<temp<28:\n",
        "    print(\"Its pleasant weather, Suitable for outdoor activity.\")\n",
        "elif temp<20:\n",
        "    print(\"Its very cold today, Stay inside the blanket \")\n",
        "else:\n",
        "    print(\"Temperature not defined\")"
      ],
      "metadata": {
        "colab": {
          "base_uri": "https://localhost:8080/"
        },
        "id": "73NYL8egww6l",
        "outputId": "99c33117-48fd-4197-c1e9-4c0facfb949f"
      },
      "execution_count": null,
      "outputs": [
        {
          "output_type": "stream",
          "name": "stdout",
          "text": [
            "Enter the temperature in celcius : 12\n",
            "Its very cold today, Stay inside the blanket \n"
          ]
        }
      ]
    },
    {
      "cell_type": "markdown",
      "source": [
        "##Algebric Identity\n",
        "- (a+b)^2=a^2+b^2+2ab"
      ],
      "metadata": {
        "id": "MGFPaY4SxHz-"
      }
    },
    {
      "cell_type": "code",
      "source": [
        "a=int(input(\"enter the value of a : \"))\n",
        "b=int(input(\"enter the value of b : \"))\n",
        "result=(a**2)+(b**2)+2*a*b\n",
        "print(result)"
      ],
      "metadata": {
        "colab": {
          "base_uri": "https://localhost:8080/"
        },
        "id": "DULnUvIyw60d",
        "outputId": "e116e7a9-eeae-4bdc-a3dc-bbf47f469a9f"
      },
      "execution_count": null,
      "outputs": [
        {
          "output_type": "stream",
          "name": "stdout",
          "text": [
            "enter the value of a : 2\n",
            "enter the value of b : 3\n",
            "25\n"
          ]
        }
      ]
    },
    {
      "cell_type": "markdown",
      "source": [
        "#Conditional Statement"
      ],
      "metadata": {
        "id": "i1kSaBVso7Fa"
      }
    },
    {
      "cell_type": "markdown",
      "source": [
        "##  creating strong password"
      ],
      "metadata": {
        "id": "Nzi7hJhXpCzT"
      }
    },
    {
      "cell_type": "code",
      "source": [
        "password=input(\"Enter your password : \").strip()\n",
        "if password!=\"\":\n",
        "    if len(password)==8:\n",
        "        if password[0].isupper():\n",
        "            print(\"Password Created.\")\n",
        "        else :\n",
        "            print(\"First character must be in upper case.\")\n",
        "    else:\n",
        "        print(\"Password must be exactly 8 character long.\")\n",
        "else:\n",
        "    print(\"Password cannot be empty.\")"
      ],
      "metadata": {
        "id": "L1oVZ-mT6GrX",
        "colab": {
          "base_uri": "https://localhost:8080/"
        },
        "outputId": "50870901-1e8e-4492-d19b-d0d327a0bab7"
      },
      "execution_count": null,
      "outputs": [
        {
          "output_type": "stream",
          "name": "stdout",
          "text": [
            "Enter your password : Annu1212\n",
            "Password Created.\n"
          ]
        }
      ]
    },
    {
      "cell_type": "markdown",
      "source": [
        "## Login Credentials"
      ],
      "metadata": {
        "id": "cNUzHchxuipq"
      }
    },
    {
      "cell_type": "code",
      "source": [
        "name=input(\"Enter your name : \").strip()  #.strip() is used to remove unwanted space\n",
        "email=input(\"Create a valid email : \").strip()\n",
        "password=input(\"Enter your Password : \").strip()\n",
        "if name!=\"\":\n",
        "    if \"@\" in email:\n",
        "        if (password.isdigit()) & (len(password)==6):\n",
        "            print(\"Login Successfull\")\n",
        "        else:\n",
        "            print(\"Password must be 6 digit number.\")\n",
        "    else :\n",
        "        print(\"Your email must contain @\")\n",
        "else :\n",
        "    print(\"Invalid Name\")"
      ],
      "metadata": {
        "colab": {
          "base_uri": "https://localhost:8080/"
        },
        "id": "Ouc-dYV2pNIi",
        "outputId": "c0b79294-d731-423a-bd76-e2f75bd797b4"
      },
      "execution_count": null,
      "outputs": [
        {
          "output_type": "stream",
          "name": "stdout",
          "text": [
            "Enter your name : Pragati\n",
            "Create a valid email : Prag@123\n",
            "Enter your Password : 123098\n",
            "Login Successfull\n"
          ]
        }
      ]
    },
    {
      "cell_type": "markdown",
      "source": [
        "## Fast Food Order System"
      ],
      "metadata": {
        "id": "tUA8ueZ2u43I"
      }
    },
    {
      "cell_type": "code",
      "source": [
        "print(\"Welcome to Fast Food Cafe!\")\n",
        "print(\"\"\"\n",
        "Menu:\n",
        "1. Burger ---- L/M/S\n",
        "2. Pizza ----- L/M/S\n",
        "3. Momos ----- L/M/S\n",
        "\"\"\")\n",
        "\n",
        "item=input(\"Select your item from Menu : \").lower()\n",
        "menu=[\"burger\",\"pizza\",\"momos\"]\n",
        "if item in menu:\n",
        "    if item == \"burger\":\n",
        "        size=input(\"Select size (L/M/S) \")\n",
        "        if size==\"L\":\n",
        "            print(f\"Bill amount for {item} {size} is 120.\")\n",
        "        elif size==\"M\":\n",
        "            print(f\"Bill amount for {item} {size} is 90.\")\n",
        "        elif size==\"S\":\n",
        "            print(f\"Bill amount for {item} {size} is 60.\")\n",
        "        else :\n",
        "            print(\"Select valid size\")\n",
        "    elif item == \"pizza\":\n",
        "        size=input(\"Select size (L/M/S) \")\n",
        "        if size==\"L\":\n",
        "            print(f\"Bill amount for {item} {size} is 500.\")\n",
        "        elif size==\"M\":\n",
        "            print(f\"Bill amount for {item} {size} is 400.\")\n",
        "        elif size==\"S\":\n",
        "            print(f\"Bill amount for {item} {size} is 250.\")\n",
        "        else :\n",
        "            print(\"Select valid size\")\n",
        "    elif item == \"momos\":\n",
        "        size=input(\"Select size (L/M/S) \")\n",
        "        if size==\"L\":\n",
        "            print(f\"Bill amount for {item} {size} is 200.\")\n",
        "        elif size==\"M\":\n",
        "            print(f\"Bill amount for {item} {size} is 150.\")\n",
        "        elif size==\"S\":\n",
        "            print(f\"Bill amount for {item} {size} is 100.\")\n",
        "        else :\n",
        "            print(\"Select valid size\")\n",
        "else :\n",
        "    print(\"Item not available!\")"
      ],
      "metadata": {
        "colab": {
          "base_uri": "https://localhost:8080/"
        },
        "id": "pDcSfXLour4z",
        "outputId": "82a9c38e-bef7-4f64-b135-47e1392fd86d"
      },
      "execution_count": null,
      "outputs": [
        {
          "output_type": "stream",
          "name": "stdout",
          "text": [
            "Welcome to Fast Food Cafe!\n",
            "\n",
            "Menu:\n",
            "1. Burger ---- L/M/S\n",
            "2. Pizza ----- L/M/S\n",
            "3. Momos ----- L/M/S\n",
            "\n",
            "Select your item from Menu : burger\n",
            "Select size (L/M/S) L\n",
            "Bill amount for burger L is 120.\n"
          ]
        }
      ]
    },
    {
      "cell_type": "markdown",
      "source": [
        "## ATM money withdrawl"
      ],
      "metadata": {
        "id": "ckicKCNnvNRl"
      }
    },
    {
      "cell_type": "code",
      "source": [
        "pin = input(\"Enter 4 digit PIN : \")\n",
        "if (len(pin)==4) & (pin.isdigit()):\n",
        "    pin==int(pin)\n",
        "    balance=5000\n",
        "    amount = int(input(\"Enter the amount to withdrawl : \"))\n",
        "\n",
        "    if amount<= balance:\n",
        "        print(\"Withdrawl successful! Remaining Balance = \",balance-amount)\n",
        "    else :\n",
        "        print(\"Insufficient Balance !\")\n",
        "else :\n",
        "    print(\"Invalid Pin. Access denied\")"
      ],
      "metadata": {
        "colab": {
          "base_uri": "https://localhost:8080/"
        },
        "id": "mgrci5nOvEZH",
        "outputId": "c4c6ce47-c142-41af-ed40-96b800fd4de1"
      },
      "execution_count": null,
      "outputs": [
        {
          "output_type": "stream",
          "name": "stdout",
          "text": [
            "Enter 4 digit PIN : 1235\n",
            "Enter the amount to withdrawl : 568\n",
            "Withdrawl successful! Remaining Balance =  4432\n"
          ]
        }
      ]
    },
    {
      "cell_type": "markdown",
      "source": [
        "## OTP verification"
      ],
      "metadata": {
        "id": "GXKQXXHfvdcI"
      }
    },
    {
      "cell_type": "code",
      "source": [
        "OTP=input(\"Enter the 6 digit code \")\n",
        "if (len(OTP)==6) & (OTP.isdigit()):\n",
        "    OTP==int(OTP)\n",
        "    print(\"OTP verified\")\n",
        "else:\n",
        "    print(\"Invalid OTP\")"
      ],
      "metadata": {
        "colab": {
          "base_uri": "https://localhost:8080/"
        },
        "id": "yFJBXohRvS_c",
        "outputId": "489b3ac1-39b9-4626-cfea-3720f2350db3"
      },
      "execution_count": null,
      "outputs": [
        {
          "output_type": "stream",
          "name": "stdout",
          "text": [
            "Enter the 6 digit code 879429\n",
            "OTP verified\n"
          ]
        }
      ]
    },
    {
      "cell_type": "markdown",
      "source": [
        "## Divisible by 5"
      ],
      "metadata": {
        "id": "bDC6MupYv0GL"
      }
    },
    {
      "cell_type": "code",
      "source": [
        "num=float(input(\"Enter any number : \"))\n",
        "if (type(num)==float) & (num%5==0) & (num>0):\n",
        "    print(num, \" is divisible by 5\")"
      ],
      "metadata": {
        "colab": {
          "base_uri": "https://localhost:8080/"
        },
        "id": "Yk9kEc7-vist",
        "outputId": "793ac9d4-4702-4748-ad15-d243aa687e92"
      },
      "execution_count": null,
      "outputs": [
        {
          "output_type": "stream",
          "name": "stdout",
          "text": [
            "Enter any number : 85655\n",
            "85655.0  is divisible by 5\n"
          ]
        }
      ]
    },
    {
      "cell_type": "markdown",
      "source": [
        "#Loop Statement"
      ],
      "metadata": {
        "id": "nwXBCA4pwxlo"
      }
    },
    {
      "cell_type": "markdown",
      "source": [
        "## password checking"
      ],
      "metadata": {
        "id": "PhALK__Bw0f5"
      }
    },
    {
      "cell_type": "code",
      "source": [
        "password=\"\"\n",
        "while password != \"Prag123\":\n",
        "    password=input(\"Enter password : \")\n",
        "print(\"Access granted.\")"
      ],
      "metadata": {
        "colab": {
          "base_uri": "https://localhost:8080/"
        },
        "id": "FSqaWYdIv3ii",
        "outputId": "4c11b73a-4b55-4c6b-9726-4c9adb2f1c43"
      },
      "execution_count": null,
      "outputs": [
        {
          "output_type": "stream",
          "name": "stdout",
          "text": [
            "Enter password : ffhfhf\n",
            "Enter password : 875gfg\n",
            "Enter password : Prag123\n",
            "Access granted.\n"
          ]
        }
      ]
    },
    {
      "cell_type": "markdown",
      "source": [
        "## Multiplication Table"
      ],
      "metadata": {
        "id": "luoYBKMYxRgA"
      }
    },
    {
      "cell_type": "code",
      "source": [
        "\n",
        "num=int(input(\"Enter a number : \"))\n",
        "for i in range(1,11):\n",
        "    print(f\"{num} * {i}= {num*i}\")"
      ],
      "metadata": {
        "colab": {
          "base_uri": "https://localhost:8080/"
        },
        "id": "fsUDCNnNw8dZ",
        "outputId": "f54cb71b-a63a-4339-a40a-ec96ee80e4e4"
      },
      "execution_count": null,
      "outputs": [
        {
          "output_type": "stream",
          "name": "stdout",
          "text": [
            "Enter a number : 12\n",
            "12 * 1= 12\n",
            "12 * 2= 24\n",
            "12 * 3= 36\n",
            "12 * 4= 48\n",
            "12 * 5= 60\n",
            "12 * 6= 72\n",
            "12 * 7= 84\n",
            "12 * 8= 96\n",
            "12 * 9= 108\n",
            "12 * 10= 120\n"
          ]
        }
      ]
    },
    {
      "cell_type": "markdown",
      "source": [
        "## Star Pattern"
      ],
      "metadata": {
        "id": "SwCM1cjSxa1u"
      }
    },
    {
      "cell_type": "code",
      "source": [
        "row=5\n",
        "for i in range(1,6):\n",
        "    print(\"*\"*i)"
      ],
      "metadata": {
        "colab": {
          "base_uri": "https://localhost:8080/"
        },
        "id": "WgoOMur3xVkk",
        "outputId": "f15d876a-4b9d-4965-8403-5bc870f0ab22"
      },
      "execution_count": null,
      "outputs": [
        {
          "output_type": "stream",
          "name": "stdout",
          "text": [
            "*\n",
            "**\n",
            "***\n",
            "****\n",
            "*****\n"
          ]
        }
      ]
    },
    {
      "cell_type": "markdown",
      "source": [
        "##Sum of first n even number"
      ],
      "metadata": {
        "id": "P_cm9tfLxrGC"
      }
    },
    {
      "cell_type": "code",
      "source": [
        "print(\"Sum of n even number.\")\n",
        "n=int(input(\"Enter the value of n : \"))\n",
        "Sum=0\n",
        "for i in range(1,n+1):\n",
        "    Sum+=2*i\n",
        "print(\"Sum is : \", Sum)"
      ],
      "metadata": {
        "colab": {
          "base_uri": "https://localhost:8080/"
        },
        "id": "9PLmYE7OxgDh",
        "outputId": "91951c6b-264f-4032-cb1e-c478132ef8f3"
      },
      "execution_count": null,
      "outputs": [
        {
          "output_type": "stream",
          "name": "stdout",
          "text": [
            "Sum of n even number.\n",
            "Enter the value of n : 50\n",
            "Sum is :  2550\n"
          ]
        }
      ]
    },
    {
      "cell_type": "markdown",
      "source": [
        "## Rock, Paper, Scissor"
      ],
      "metadata": {
        "id": "MiBlavZdO3jx"
      }
    },
    {
      "cell_type": "code",
      "source": [
        "print(\" || Rock Paper Scissor || \")\n",
        "while True:\n",
        "    player1=input(\"Player 1 = Enter your gesture (Rock/Paper/Scissor) : \").strip().lower()\n",
        "    player2=input(\"Player 2 = Enter your gesture (Rock/Paper/Scissor) : \").strip().lower()\n",
        "    if player1==player2:\n",
        "        print(\"Draw\")\n",
        "    elif player1!=player2:\n",
        "        if (player1==\"rock\") & (player2==\"paper\"):\n",
        "            print(\"Player2 win\")\n",
        "        elif (player1==\"paper\") & (player2==\"scissor\"):\n",
        "            print(\"Player2 win\")\n",
        "        elif (player1==\"scissor\") & (player2==\"rock\"):\n",
        "            print(\"Player2 win\")\n",
        "        elif (player1==\"rock\") & (player2==\"scissor\"):\n",
        "            print(\"Player 1 win\")\n",
        "        elif (player1==\"paper\") & (player2==\"rock\"):\n",
        "            print(\"Player 1 win\")\n",
        "        elif (player1==\"scissor\") & (player2==\"paper\"):\n",
        "            print(\"Player 1 win\")\n",
        "        else:\n",
        "            print(\"Select proper gesture\")\n",
        "        break\n",
        "    else:\n",
        "        print(\"END game\")\n"
      ],
      "metadata": {
        "id": "0XtDzFgpgjQo",
        "colab": {
          "base_uri": "https://localhost:8080/"
        },
        "outputId": "08679f3f-9209-47da-93ce-505ef5eb3570"
      },
      "execution_count": 12,
      "outputs": [
        {
          "output_type": "stream",
          "name": "stdout",
          "text": [
            " || Rock Paper Scissor || \n",
            "Player 1 = Enter your gesture (Rock/Paper/Scissor) : Rock\n",
            "Player 2 = Enter your gesture (Rock/Paper/Scissor) : ScissoR\n",
            "Player 1 win\n"
          ]
        }
      ]
    },
    {
      "cell_type": "code",
      "source": [],
      "metadata": {
        "id": "mwE9lx_sRaV0"
      },
      "execution_count": null,
      "outputs": []
    }
  ]
}